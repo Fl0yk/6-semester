{
 "cells": [
  {
   "cell_type": "code",
   "execution_count": 24,
   "metadata": {},
   "outputs": [],
   "source": [
    "import numpy as np\n",
    "from pprint import pprint"
   ]
  },
  {
   "cell_type": "markdown",
   "metadata": {},
   "source": [
    "Функция для генерации случайных данных раличных распределений"
   ]
  },
  {
   "cell_type": "code",
   "execution_count": 28,
   "metadata": {},
   "outputs": [
    {
     "name": "stdout",
     "output_type": "stream",
     "text": [
      "uniform\n",
      "[9.96183053 7.95613252 9.36564681 9.60968954 8.17325442 8.31364562\n",
      " 8.11824671 7.32086079 8.43689636 7.72405644 7.77143575 7.55419467\n",
      " 7.58159365 9.44148301 8.26895256 7.76776152 8.77270856 8.81281689\n",
      " 8.94057408 9.73406914]\n",
      "[7, 10]\n"
     ]
    }
   ],
   "source": [
    "def get_distribution(name, seed, size):\n",
    "    rnd_gen = np.random.default_rng(seed)\n",
    "    # Геометническое распределение\n",
    "    if (name == 'geometric'):\n",
    "        p = rnd_gen.random()\n",
    "        return name, rnd_gen.geometric(p, size=size), [p]\n",
    "    # Биномиальное распределение\n",
    "    elif (name == 'binomial'):\n",
    "        n = rnd_gen.integers(1, 1000)\n",
    "        p = rnd_gen.random()\n",
    "        return name, rnd_gen.binomial(n, p, size=size), [n, p]\n",
    "    # Распределение Пуассона\n",
    "    elif (name == 'poisson'):\n",
    "        expected_value = rnd_gen.integers(100)\n",
    "        return name, rnd_gen.poisson(expected_value, size=size), [expected_value]\n",
    "    # Равномерное распределение\n",
    "    elif (name == 'uniform'):\n",
    "        a = rnd_gen.integers(10)\n",
    "        b = a + rnd_gen.integers(1, 10)\n",
    "        return name, rnd_gen.uniform(a, b, size=size), [a, b]\n",
    "    # Нормальное распределение\n",
    "    elif (name == 'normal'):\n",
    "        expected_value = rnd_gen.integers(-10, 10)\n",
    "        # Среднеквадратичное отклонение\n",
    "        standart_deviation = rnd_gen.integers(1, 10)\n",
    "        return name, rnd_gen.normal(expected_value, standart_deviation, size=size), [expected_value, standart_deviation]\n",
    "    # Экспоненциальное распределение\n",
    "    elif (name == 'exponential'):\n",
    "        expected_value = rnd_gen.integers(-10, 10)\n",
    "        return name, rnd_gen.exponential(expected_value, size=size), [expected_value]\n",
    "\n",
    "    \n",
    "    \n",
    "(name, data, params) = get_distribution('uniform', seed=8, size=20)\n",
    "print(name)\n",
    "print(data)\n",
    "print(params)"
   ]
  },
  {
   "cell_type": "markdown",
   "metadata": {},
   "source": [
    "Функция для разделения наблюдаемых значений на разряды <br>\n",
    "Вовращает массив, в котором каждая элемент содержит данные разряда и среднее"
   ]
  },
  {
   "cell_type": "code",
   "execution_count": 35,
   "metadata": {},
   "outputs": [
    {
     "name": "stdout",
     "output_type": "stream",
     "text": [
      "([[[0, 1, 1, 1], 0.5], [[2, 3], 2.5], [[4, 5], 4.5], [[6, 7], 6.5], [[8, 9], 8.5], [[10, 11], 10.5], [[12], 12.0]], 2.0)\n"
     ]
    }
   ],
   "source": [
    "def split_into_intervals(lst, bins_count):\n",
    "    if len(lst) == 0:\n",
    "        return []\n",
    "\n",
    "    sorted_lst = sorted(lst)\n",
    "    \n",
    "    res = []\n",
    "\n",
    "    interval_len = (sorted_lst[-1]-sorted_lst[0]) / bins_count\n",
    "    counter = sorted_lst[0]\n",
    "    \n",
    "    for i in sorted_lst: \n",
    "        if i >= counter:\n",
    "            while counter <= i:      \n",
    "                counter += interval_len\n",
    "\n",
    "            res.append([[], 0])\n",
    "            \n",
    "        res[-1][0].append(i)\n",
    "        res[-1][1] += i\n",
    "    \n",
    "    for i in res:\n",
    "        i[1] = ((i[0][0] + i[0][-1]) / 2) if len(i[0]) else 0\n",
    "    \n",
    "    return (res, interval_len)\n",
    "\n",
    "print(split_into_intervals([0, 1, 1, 1, 7, 2, 8, 3, 9, 4, 10, 5, 11, 6, 12], 6))"
   ]
  }
 ],
 "metadata": {
  "kernelspec": {
   "display_name": "Python 3",
   "language": "python",
   "name": "python3"
  },
  "language_info": {
   "codemirror_mode": {
    "name": "ipython",
    "version": 3
   },
   "file_extension": ".py",
   "mimetype": "text/x-python",
   "name": "python",
   "nbconvert_exporter": "python",
   "pygments_lexer": "ipython3",
   "version": "3.11.9"
  }
 },
 "nbformat": 4,
 "nbformat_minor": 2
}
